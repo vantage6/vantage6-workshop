{
 "cells": [
  {
   "cell_type": "code",
   "execution_count": null,
   "metadata": {},
   "outputs": [],
   "source": [
    "url = \"https://server.workshop.vantage6.ai\"\n",
    "port = 443\n",
    "api_path = \"/api\"\n",
    "\n",
    "# When running this, create a file config.py with the following content:\n",
    "from config import username, password"
   ]
  },
  {
   "cell_type": "code",
   "execution_count": null,
   "metadata": {},
   "outputs": [],
   "source": [
    "from vantage6.client import Client\n",
    "\n",
    "client = Client(url, port, api_path, log_level='debug')\n",
    "\n",
    "client.authenticate(username, password)\n",
    "client.setup_encryption(None)"
   ]
  },
  {
   "cell_type": "code",
   "execution_count": null,
   "metadata": {},
   "outputs": [],
   "source": [
    "from workshop_resources.participants import participants\n",
    "from workshop_resources.organizations import organizations as organization_names\n",
    "from workshop_resources.collaborations import collaborations as collaboration_names"
   ]
  },
  {
   "cell_type": "code",
   "execution_count": null,
   "metadata": {},
   "outputs": [],
   "source": [
    "# clear users\n",
    "for participant in participants:\n",
    "    response = client.user.list(firstname=participant['first_name'], lastname=participant['last_name'])\n",
    "    if len(response['data']) > 0:\n",
    "        user = response['data'][0]\n",
    "        client.user.delete(user['id'])"
   ]
  },
  {
   "cell_type": "code",
   "execution_count": null,
   "metadata": {},
   "outputs": [],
   "source": [
    "# clear organizations\n",
    "for organization in organization_names:\n",
    "    response = client.organization.list(name=organization['name'])\n",
    "    if len(response['data']) > 0:\n",
    "        org = response['data'][0]\n",
    "        client.organization.delete(org['id'], delete_dependents=True)"
   ]
  },
  {
   "cell_type": "code",
   "execution_count": null,
   "metadata": {},
   "outputs": [],
   "source": [
    "# note that this also deletes the studies and the nodes\n",
    "for collab in client.collaboration.list(scope=\"global\")['data']:\n",
    "    if collab['name'] in collaboration_names:\n",
    "        client.collaboration.delete(collab['id'], delete_dependents=True)\n"
   ]
  },
  {
   "cell_type": "code",
   "execution_count": null,
   "metadata": {},
   "outputs": [],
   "source": [
    "# TODO check if necessary? I think already deleted in collaborations\n",
    "# TODO it would be nice to explicitly link the nodes to the organizations and collaborations\n",
    "# for node in client.node.list(per_page=9999)['data']:\n",
    "#     client.node.delete(node['id'])\n"
   ]
  },
  {
   "cell_type": "code",
   "execution_count": null,
   "metadata": {},
   "outputs": [],
   "source": []
  }
 ],
 "metadata": {
  "kernelspec": {
   "display_name": "Python 3",
   "language": "python",
   "name": "python3"
  },
  "language_info": {
   "codemirror_mode": {
    "name": "ipython",
    "version": 3
   },
   "file_extension": ".py",
   "mimetype": "text/x-python",
   "name": "python",
   "nbconvert_exporter": "python",
   "pygments_lexer": "ipython3",
   "version": "3.10.12"
  }
 },
 "nbformat": 4,
 "nbformat_minor": 2
}
