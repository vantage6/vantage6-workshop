{
 "cells": [
  {
   "cell_type": "code",
   "execution_count": null,
   "metadata": {},
   "outputs": [],
   "source": [
    "url = \"https://server.workshop.vantage6.ai\"\n",
    "port = 443\n",
    "api_path = \"/api\"\n",
    "\n",
    "# When running this, create a file config.py with the following content:\n",
    "from config import username, password"
   ]
  },
  {
   "cell_type": "code",
   "execution_count": null,
   "metadata": {},
   "outputs": [],
   "source": [
    "from vantage6.client import Client\n",
    "\n",
    "client = Client(url, port, api_path, log_level='debug')\n",
    "\n",
    "client.authenticate(username, password)\n",
    "client.setup_encryption(None)"
   ]
  },
  {
   "cell_type": "code",
   "execution_count": null,
   "metadata": {},
   "outputs": [],
   "source": [
    "from workshop_resources.organizations import organizations as organization_names\n",
    "from workshop_resources.collaborations import collaborations as collaboration_names"
   ]
  },
  {
   "cell_type": "code",
   "execution_count": null,
   "metadata": {},
   "outputs": [],
   "source": [
    "### read participants as list of dictionaries\n",
    "import csv\n",
    "\n",
    "participants_file = 'workshop_resources/participants.csv'\n",
    "participants = []\n",
    "with open(participants_file, mode='r') as f:\n",
    "    reader = csv.DictReader(f)\n",
    "    for row in reader:\n",
    "        participants.append(row)\n"
   ]
  },
  {
   "cell_type": "code",
   "execution_count": null,
   "metadata": {},
   "outputs": [],
   "source": [
    "# clear users\n",
    "for participant in participants:\n",
    "    response = client.user.list(firstname=participant['first_name'], lastname=participant['last_name'])\n",
    "    if len(response['data']) > 0:\n",
    "        user = response['data'][0]\n",
    "        client.user.delete(user['id'])"
   ]
  },
  {
   "cell_type": "code",
   "execution_count": null,
   "metadata": {},
   "outputs": [],
   "source": [
    "# clear organizations\n",
    "for organization in organization_names:\n",
    "    response = client.organization.list(name=organization['name'])\n",
    "    if len(response['data']) > 0:\n",
    "        org = response['data'][0]\n",
    "        client.organization.delete(org['id'], delete_dependents=True)"
   ]
  },
  {
   "cell_type": "code",
   "execution_count": null,
   "metadata": {},
   "outputs": [],
   "source": [
    "# note that this also deletes the studies and the nodes\n",
    "# TODO there is a bug. Therefore studies are not deleted by this endpoint. See\n",
    "#      https://github.com/vantage6/vantage6/issues/1465\n",
    "for collab in client.collaboration.list(scope=\"global\")['data']:\n",
    "    if collab['name'] in collaboration_names:\n",
    "        client.collaboration.delete(collab['id'], delete_dependents=True)\n",
    "\n",
    "for study in client.study.list()[\"data\"]:\n",
    "    client.study.delete(study[\"id\"])"
   ]
  },
  {
   "cell_type": "markdown",
   "metadata": {},
   "source": [
    "# Delete dummy resources"
   ]
  },
  {
   "cell_type": "code",
   "execution_count": null,
   "metadata": {},
   "outputs": [],
   "source": [
    "for participant in participants:\n",
    "\n",
    "    abbrev_name = participant['first_name'][0].lower() + participant['last_name'].lower()\n",
    "\n",
    "    try:\n",
    "        user = client.user.list(username=f\"{abbrev_name}_admin\")\n",
    "        client.user.delete(user['data'][0]['id'])\n",
    "    except Exception as e:\n",
    "        print(\"Failed to delete user\", e)\n",
    "\n",
    "    try:\n",
    "        org1 = client.organization.list(name=f\"{abbrev_name}_main_org\")\n",
    "        org2 = client.organization.list(name=f\"{abbrev_name}_sub_org1\")\n",
    "        org3 = client.organization.list(name=f\"{abbrev_name}_sub_org2\")\n",
    "\n",
    "        client.organization.delete(org1['data'][0]['id'], delete_dependents=True)\n",
    "        client.organization.delete(org2['data'][0]['id'], delete_dependents=True)\n",
    "        client.organization.delete(org3['data'][0]['id'], delete_dependents=True)\n",
    "\n",
    "    except Exception as e:\n",
    "        print(\"Failed to delete organization\", e)\n",
    "\n",
    "    try:\n",
    "        collab1 = client.collaboration.list(scope=\"global\", name=f\"{abbrev_name}_collab1\")\n",
    "        collab2 = client.collaboration.list(scope=\"global\", name=f\"{abbrev_name}_collab2\")\n",
    "        client.collaboration.delete(collab1['data'][0]['id'], delete_dependents=True)\n",
    "        client.collaboration.delete(collab2['data'][0]['id'], delete_dependents=True)\n",
    "    except Exception as e:\n",
    "        print(\"Failed to delete collaboration\", e)\n"
   ]
  }
 ],
 "metadata": {
  "kernelspec": {
   "display_name": "Python 3",
   "language": "python",
   "name": "python3"
  },
  "language_info": {
   "codemirror_mode": {
    "name": "ipython",
    "version": 3
   },
   "file_extension": ".py",
   "mimetype": "text/x-python",
   "name": "python",
   "nbconvert_exporter": "python",
   "pygments_lexer": "ipython3",
   "version": "3.10.14"
  }
 },
 "nbformat": 4,
 "nbformat_minor": 2
}
