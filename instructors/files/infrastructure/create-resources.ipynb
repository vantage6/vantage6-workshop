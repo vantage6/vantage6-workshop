{
 "cells": [
  {
   "cell_type": "code",
   "execution_count": null,
   "id": "0e5b5b13",
   "metadata": {},
   "outputs": [],
   "source": [
    "## TODO ensure this script performs properly if the number of participants is not a\n",
    "## multiple of 5 - we should then just create more organizations/nodes without user\n",
    "# accounts to let them have the same experience as the others\n",
    "url = \"https://server.workshop.vantage6.ai\"\n",
    "port = 443\n",
    "api_path = \"/api\"\n",
    "\n",
    "# When running this, create a file config.py with the following content:\n",
    "from config import username, password"
   ]
  },
  {
   "cell_type": "code",
   "execution_count": null,
   "id": "93dc485a",
   "metadata": {},
   "outputs": [],
   "source": [
    "from vantage6.client import Client\n",
    "\n",
    "client = Client(url, port, api_path, log_level='debug')\n",
    "\n",
    "client.authenticate(username, password)\n",
    "client.setup_encryption(None)"
   ]
  },
  {
   "cell_type": "markdown",
   "id": "2df33824",
   "metadata": {},
   "source": [
    "### Register algorithm store"
   ]
  },
  {
   "cell_type": "code",
   "execution_count": null,
   "id": "1b149b44",
   "metadata": {},
   "outputs": [],
   "source": [
    "# TODO: I now commente this out because only needs to be done once - make it resilient\n",
    "#client.store.create(algorithm_store_url=\"https://store.cotopaxi.vantage6.ai\", name=\"Community store\",\n",
    "#                    all_collaborations=True)"
   ]
  },
  {
   "cell_type": "markdown",
   "id": "3804a8f6",
   "metadata": {},
   "source": [
    "### Define user details"
   ]
  },
  {
   "cell_type": "code",
   "execution_count": null,
   "id": "4abf253d",
   "metadata": {},
   "outputs": [],
   "source": [
    "# TODO replace participants with actual data\n",
    "from workshop_resources.organizations import organizations\n",
    "from workshop_resources.collaborations import collaborations as collaboration_names\n",
    "from workshop_resources.collaborations import studies as study_names"
   ]
  },
  {
   "cell_type": "code",
   "execution_count": null,
   "id": "6eec07d0",
   "metadata": {},
   "outputs": [],
   "source": [
    "### read participants as list of dictionaries\n",
    "import csv\n",
    "\n",
    "participants_file = 'workshop_resources/participants_try_outs.csv'\n",
    "participants = []\n",
    "with open(participants_file, mode='r') as f:\n",
    "    reader = csv.DictReader(f)\n",
    "    for row in reader:\n",
    "        participants.append(row)\n"
   ]
  },
  {
   "cell_type": "markdown",
   "id": "0f9e1931",
   "metadata": {},
   "source": [
    "### Register organizations"
   ]
  },
  {
   "cell_type": "code",
   "execution_count": null,
   "id": "ce9e21e3",
   "metadata": {},
   "outputs": [],
   "source": [
    "org_data = []\n",
    "for org in organizations:\n",
    "    org_data.append(client.organization.create(**org, address2=''))"
   ]
  },
  {
   "cell_type": "code",
   "execution_count": null,
   "id": "479757b7",
   "metadata": {},
   "outputs": [],
   "source": [
    "# create users\n",
    "researcher_role = 5\n",
    "for i, participant in enumerate(participants[1:]):\n",
    "    data = {\n",
    "        \"firstname\": participant['first_name'],\n",
    "        \"lastname\": participant['last_name'],\n",
    "        \"email\": participant['email'],\n",
    "        # username of John Doe is jdoe\n",
    "        \"username\": participant['first_name'][0].lower() + participant['last_name'].lower(),\n",
    "        \"password\": \"Password123!\",\n",
    "        \"roles\": [researcher_role],\n",
    "        \"rules\": [],\n",
    "        \"organization\": org_data[i]['id']\n",
    "    }\n",
    "    client.user.create(**data)"
   ]
  },
  {
   "cell_type": "code",
   "execution_count": null,
   "id": "b577ea4b",
   "metadata": {},
   "outputs": [],
   "source": [
    "# create collaborations\n",
    "# Users are assigned to the first 35 organizations, then there are 7 at the end that\n",
    "# are offline. We will group users in collaborations of 6 organizations, 5 from the\n",
    "# first 35 and 1 from the last 7 (offline) organizations.\n",
    "collaboration_data = []\n",
    "collaboration_responses = []\n",
    "SIZE_COLLABS = 5 # TODO: if you have less than 5 participants this need to be set to that number\n",
    "for idx in range(0, int(len(participants) / SIZE_COLLABS)):\n",
    "    data = {\n",
    "        \"name\": collaboration_names[idx],\n",
    "        \"organizations\": [\n",
    "            org_data[j]['id'] for j in range(idx * SIZE_COLLABS, (idx*SIZE_COLLABS)+SIZE_COLLABS)\n",
    "        ] + [\n",
    "            org_data[len(participants) + idx]['id']\n",
    "        ],\n",
    "        \"encrypted\": False\n",
    "    }\n",
    "    collaboration_data.append(data)\n",
    "    response = client.collaboration.create(**data)\n",
    "    collaboration_responses.append(response)"
   ]
  },
  {
   "cell_type": "code",
   "execution_count": null,
   "id": "25259b56",
   "metadata": {},
   "outputs": [],
   "source": [
    "from pathlib import Path\n",
    "from jinja2 import Environment, FileSystemLoader\n",
    "\n",
    "# define function to create node config files from template\n",
    "def create_node_config_file(api_key, node_name, nth_node_in_collab):\n",
    "    environment = Environment(\n",
    "        loader=FileSystemLoader(\"templates\"),\n",
    "        trim_blocks=True,\n",
    "        lstrip_blocks=True,\n",
    "        autoescape=True,\n",
    "    )\n",
    "    template = environment.get_template(\"node_config.j2\")\n",
    "\n",
    "    node_config = template.render(\n",
    "        api_key=api_key,\n",
    "        default_data_file_path=f\"/data/default_dataset_{nth_node_in_collab}.csv\",\n",
    "        km_data_file_path=f\"/data/km_dataset_{nth_node_in_collab}.csv\",\n",
    "        log_file=f\"{node_name}.log\",\n",
    "        task_dir=f\"/home/vantage6/.local/share/vantage6/node/{node_name}\"\n",
    "    )\n",
    "\n",
    "    cwd = Path.cwd()\n",
    "    output_path = Path(cwd / \"output\" / \"node_configs\" / f\"{node_name}.yaml\")\n",
    "    output_path.parent.mkdir(parents=True, exist_ok=True)\n",
    "    with open(output_path, \"x\") as f:\n",
    "        f.write(node_config)\n"
   ]
  },
  {
   "cell_type": "code",
   "execution_count": null,
   "id": "d584d155",
   "metadata": {},
   "outputs": [],
   "source": [
    "# register nodes\n",
    "node_responses = []\n",
    "for idx in range(0, len(collaboration_data)):\n",
    "    data = {\n",
    "        \"collaboration\": collaboration_responses[idx]['id'],\n",
    "    }\n",
    "    for org_idx, org in enumerate(collaboration_data[idx]['organizations']):\n",
    "        data['organization'] = org\n",
    "        org_data_match = [org_data[i] for i in range(len(org_data)) if org_data[i]['id'] == org]\n",
    "        data[\"name\"] = (collaboration_data[idx]['name'].split(' ')[0] + \"_\" + org_data_match[0]['name']).split(' ')[0]\n",
    "        response = client.node.create(**data)\n",
    "        # for all nodes except the last one, create a node config file\n",
    "        if org_idx != SIZE_COLLABS:\n",
    "            create_node_config_file(response['api_key'], data[\"name\"], org_idx + 1)\n",
    "        node_responses.append(response)"
   ]
  },
  {
   "cell_type": "code",
   "execution_count": null,
   "id": "367a0672",
   "metadata": {},
   "outputs": [],
   "source": [
    "# create studies. These should contain all organizations in the collaboration except the\n",
    "# last one, which is offline.\n",
    "for collab_name in collaboration_names:\n",
    "    # TODO we are not sure here that all the collaboration_names are created as we are\n",
    "    # not sure that we have sufficient participants. However it will raise an error,\n",
    "    # this is not a problem as the studies for the necessary collaborations are created\n",
    "    collab = client.collaboration.list(scope=\"global\", name=collab_name)['data'][0]\n",
    "    orgs = client.organization.list(collaboration=collab['id'])['data']\n",
    "    org_ids = [org['id'] for org in orgs]\n",
    "    # remove the org with the highest id, which is the offline org\n",
    "    org_ids.remove(max(org_ids))\n",
    "    data = {\n",
    "        \"name\": study_names[collaboration_names.index(collab_name)],\n",
    "        \"collaboration\": collab['id'],\n",
    "        \"organizations\": org_ids,\n",
    "    }\n",
    "    client.study.create(**data)\n"
   ]
  },
  {
   "cell_type": "code",
   "execution_count": null,
   "id": "a4001a22",
   "metadata": {},
   "outputs": [],
   "source": [
    "# node_responses = []\n",
    "# for idx in range(0, len(collaboration_data)):\n",
    "#     data = {\n",
    "#         \"collaboration\": collaboration_responses[idx]['id'],\n",
    "#     }\n",
    "#     for org in collaboration_data[idx]['organizations']:\n",
    "#         data['organization'] = org\n",
    "#         # TODO remove name in favor of auto-naming when client is fixed\n",
    "#         data[\"name\"] = f\"Node {org}\"\n",
    "#         response = client.node.create(**data)\n",
    "#         node_responses.append(response)"
   ]
  },
  {
   "cell_type": "markdown",
   "id": "6639e2c2",
   "metadata": {},
   "source": [
    "# Register dummy resources"
   ]
  },
  {
   "cell_type": "markdown",
   "id": "47bf0804",
   "metadata": {},
   "source": [
    "The following should register the following resources:\n",
    "\n",
    "- 1 user per participant with Collaboration admin role AND permission to create collaborations\n",
    "- Each user should be in a new dummy organization, and there should be 2 extra organizations\n",
    "- There should be 2 collaborations, both containing the user's organization and one of the extra organizations\n",
    "\n"
   ]
  },
  {
   "cell_type": "code",
   "execution_count": null,
   "id": "51399e4d",
   "metadata": {},
   "outputs": [],
   "source": [
    "# create organizations\n",
    "org_data = {}\n",
    "dummy_org = {'address1': '', 'address2': '', 'country': '', 'domain': '', 'zipcode': ''}\n",
    "for participant in participants:\n",
    "    abbrev_name = participant['first_name'][0].lower() + participant['last_name'].lower()\n",
    "    partipant_orgs = [\n",
    "        client.organization.create(\n",
    "            name=f\"{abbrev_name}_main_org\",\n",
    "            **dummy_org\n",
    "        ),\n",
    "        client.organization.create(\n",
    "            name=f\"{abbrev_name}_sub_org1\",\n",
    "            **dummy_org\n",
    "        ),\n",
    "        client.organization.create(\n",
    "            name=f\"{abbrev_name}_sub_org2\",\n",
    "            **dummy_org\n",
    "        ),\n",
    "    ]\n",
    "    org_data[abbrev_name] = partipant_orgs"
   ]
  },
  {
   "cell_type": "code",
   "execution_count": null,
   "id": "9d1bfa28",
   "metadata": {},
   "outputs": [],
   "source": [
    "# create users\n",
    "collabadmin_role = 7\n",
    "collab_create_rule = 17\n",
    "for participant in participants:\n",
    "    abbrev_name = participant['first_name'][0].lower() + participant['last_name'].lower()\n",
    "    org_id = org_data[abbrev_name][0]['id']\n",
    "    data = {\n",
    "        \"firstname\": participant['first_name'],\n",
    "        \"lastname\": participant['last_name'],\n",
    "        \"email\": participant['email']+ \"2\",\n",
    "        # username of John Doe is jdoe_admin\n",
    "        \"username\": abbrev_name + \"_admin\",\n",
    "        \"password\": \"Password123!\",\n",
    "        \"roles\": [collabadmin_role],\n",
    "        \"rules\": [collab_create_rule],\n",
    "        \"organization\": org_id\n",
    "    }\n",
    "    client.user.create(**data)"
   ]
  },
  {
   "cell_type": "code",
   "execution_count": null,
   "id": "4abe5b40",
   "metadata": {},
   "outputs": [],
   "source": [
    "for participant in participants:\n",
    "    abbrev_name = participant['first_name'][0].lower() + participant['last_name'].lower()\n",
    "    participant_orgs = org_data[abbrev_name]\n",
    "    # create one collaboration for first and second org\n",
    "    data = {\n",
    "        \"name\": f\"{abbrev_name}_collab1\",\n",
    "        \"organizations\": [participant_orgs[0]['id'], participant_orgs[1]['id']],\n",
    "        \"encrypted\": False\n",
    "    }\n",
    "    response = client.collaboration.create(**data)\n",
    "    # create one collaboartion for first and third org\n",
    "    data = {\n",
    "        \"name\": f\"{abbrev_name}_collab2\",\n",
    "        \"organizations\": [participant_orgs[0]['id'], participant_orgs[2]['id']],\n",
    "        \"encrypted\": False\n",
    "    }\n",
    "    response = client.collaboration.create(**data)"
   ]
  }
 ],
 "metadata": {
  "kernelspec": {
   "display_name": "Python 3",
   "language": "python",
   "name": "python3"
  },
  "language_info": {
   "codemirror_mode": {
    "name": "ipython",
    "version": 3
   },
   "file_extension": ".py",
   "mimetype": "text/x-python",
   "name": "python",
   "nbconvert_exporter": "python",
   "pygments_lexer": "ipython3",
   "version": "3.10.14"
  }
 },
 "nbformat": 4,
 "nbformat_minor": 5
}
